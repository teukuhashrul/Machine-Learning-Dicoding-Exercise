{
  "nbformat": 4,
  "nbformat_minor": 0,
  "metadata": {
    "colab": {
      "name": "PCA Example",
      "provenance": []
    },
    "kernelspec": {
      "name": "python3",
      "display_name": "Python 3"
    }
  },
  "cells": [
    {
      "cell_type": "code",
      "metadata": {
        "id": "Q12m9aJtQswf",
        "colab_type": "code",
        "colab": {}
      },
      "source": [
        ""
      ],
      "execution_count": 0,
      "outputs": []
    },
    {
      "cell_type": "markdown",
      "metadata": {
        "id": "NKDnln5cQwBH",
        "colab_type": "text"
      },
      "source": [
        "Lets Implement PCA Example"
      ]
    },
    {
      "cell_type": "code",
      "metadata": {
        "id": "Wu0cR8cNQ1l2",
        "colab_type": "code",
        "colab": {}
      },
      "source": [
        "from sklearn.decomposition import PCA \n",
        "from sklearn.model_selection import train_test_split \n",
        "from sklearn import datasets \n"
      ],
      "execution_count": 0,
      "outputs": []
    },
    {
      "cell_type": "markdown",
      "metadata": {
        "id": "4kGrLFN5Q_zL",
        "colab_type": "text"
      },
      "source": [
        "To try implement PCA, we can use library from sklearn. We will use iris dataset \n"
      ]
    },
    {
      "cell_type": "code",
      "metadata": {
        "id": "yuv9lznlRPGh",
        "colab_type": "code",
        "colab": {}
      },
      "source": [
        "iris = datasets.load_iris() \n",
        "attribute = iris.data \n",
        "label = iris.target \n",
        "\n",
        "iris.keys()\n",
        "# split to train test \n",
        "\n",
        "x_train, x_test , y_train , y_test = train_test_split(attribute,label, test_size = 0.2)\n",
        "\n"
      ],
      "execution_count": 0,
      "outputs": []
    },
    {
      "cell_type": "markdown",
      "metadata": {
        "id": "KcnRSSq6SJEH",
        "colab_type": "text"
      },
      "source": [
        "We wil use decision tree and count the accuracy without PCA. Accuracy without PCA is 0.9. "
      ]
    },
    {
      "cell_type": "code",
      "metadata": {
        "id": "LB6_2OMwSUpF",
        "colab_type": "code",
        "colab": {
          "base_uri": "https://localhost:8080/",
          "height": 34
        },
        "outputId": "b4d66e21-6a5d-4554-d40b-75548a6b9b29"
      },
      "source": [
        "from sklearn import tree \n",
        "decision_tree = tree.DecisionTreeClassifier() \n",
        "model = decision_tree.fit(x_train , y_train) \n",
        "# evaluate prediction score \n",
        "model.score(x_test, y_test)"
      ],
      "execution_count": 5,
      "outputs": [
        {
          "output_type": "execute_result",
          "data": {
            "text/plain": [
              "0.9333333333333333"
            ]
          },
          "metadata": {
            "tags": []
          },
          "execution_count": 5
        }
      ]
    },
    {
      "cell_type": "markdown",
      "metadata": {
        "id": "qSVS2xGNStva",
        "colab_type": "text"
      },
      "source": [
        ""
      ]
    },
    {
      "cell_type": "markdown",
      "metadata": {
        "id": "70L0s174SyUI",
        "colab_type": "text"
      },
      "source": [
        "Now we will use PCA and count variance for each PC generated . 1 feature generate 1 PC so N feature will have N PC."
      ]
    },
    {
      "cell_type": "code",
      "metadata": {
        "id": "NLGWoJU_S92e",
        "colab_type": "code",
        "colab": {
          "base_uri": "https://localhost:8080/",
          "height": 34
        },
        "outputId": "5e5de437-0624-406e-cb9b-507b464270b7"
      },
      "source": [
        "# create PCA object with 4 principal component ,because there is 4 feature\n",
        "pca =PCA(n_components=4)\n",
        "\n",
        "# mengaplikasikan PCA with dataset \n",
        "\n",
        "pca_attributes = pca.fit_transform(x_train) \n",
        "\n",
        "# generate variance for eacha attribute  / PC \n",
        "pca.explained_variance_ratio_"
      ],
      "execution_count": 9,
      "outputs": [
        {
          "output_type": "execute_result",
          "data": {
            "text/plain": [
              "array([0.92915357, 0.04975115, 0.01612365, 0.00497163])"
            ]
          },
          "metadata": {
            "tags": []
          },
          "execution_count": 9
        }
      ]
    },
    {
      "cell_type": "markdown",
      "metadata": {
        "id": "GvA49NpDTdNo",
        "colab_type": "text"
      },
      "source": [
        "  Since first 2 feature already have sum of variance of 0.96, we choose only 2 first components with highest variance "
      ]
    },
    {
      "cell_type": "code",
      "metadata": {
        "id": "VWc9sgqKTm8c",
        "colab_type": "code",
        "colab": {
          "base_uri": "https://localhost:8080/",
          "height": 34
        },
        "outputId": "efedcb87-2b51-4931-a514-173856b45f5b"
      },
      "source": [
        "pca = PCA(n_components=2) \n",
        "x_train_pca = pca.fit_transform(x_train) \n",
        "x_test_pca  = pca.fit_transform(x_test) \n",
        "\n",
        "# lets evaluate new generated feature from pca \n",
        "model_new = decision_tree.fit(x_train_pca, y_train) \n",
        "model_new.score(x_test_pca , y_test)"
      ],
      "execution_count": 13,
      "outputs": [
        {
          "output_type": "execute_result",
          "data": {
            "text/plain": [
              "0.36666666666666664"
            ]
          },
          "metadata": {
            "tags": []
          },
          "execution_count": 13
        }
      ]
    },
    {
      "cell_type": "markdown",
      "metadata": {
        "id": "WQ2M7nYEUD49",
        "colab_type": "text"
      },
      "source": [
        "T"
      ]
    }
  ]
}