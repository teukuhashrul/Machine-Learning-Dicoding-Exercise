{
  "nbformat": 4,
  "nbformat_minor": 0,
  "metadata": {
    "colab": {
      "name": "Dicoding_ImageDeployment_Submission",
      "provenance": []
    },
    "kernelspec": {
      "name": "python3",
      "display_name": "Python 3"
    }
  },
  "cells": [
    {
      "cell_type": "code",
      "metadata": {
        "id": "itwhcswac1L2",
        "outputId": "4523fcb4-3a36-4676-f4ac-52aee9e185d3",
        "colab": {
          "base_uri": "https://localhost:8080/",
          "height": 35
        }
      },
      "source": [
        "from google.colab import drive\n",
        "drive.mount('/content/drive')"
      ],
      "execution_count": 4,
      "outputs": [
        {
          "output_type": "stream",
          "text": [
            "Mounted at /content/drive\n"
          ],
          "name": "stdout"
        }
      ]
    },
    {
      "cell_type": "code",
      "metadata": {
        "id": "z4L-1BA5dx1D"
      },
      "source": [
        "# IMPORT LIBRARIES\n",
        "import tensorflow as tf\n",
        "from tensorflow.keras.optimizers import RMSprop\n",
        "from tensorflow.keras.preprocessing.image import ImageDataGenerator"
      ],
      "execution_count": 5,
      "outputs": []
    },
    {
      "cell_type": "code",
      "metadata": {
        "id": "MOmh0KO2d0oQ",
        "outputId": "62e33b5d-09f0-4522-f611-dade4a8727c3",
        "colab": {
          "base_uri": "https://localhost:8080/",
          "height": 35
        }
      },
      "source": [
        "import os \n",
        "os.listdir('drive/My Drive/animals')"
      ],
      "execution_count": 6,
      "outputs": [
        {
          "output_type": "execute_result",
          "data": {
            "text/plain": [
              "['cats', 'panda', 'dogs']"
            ]
          },
          "metadata": {
            "tags": []
          },
          "execution_count": 6
        }
      ]
    },
    {
      "cell_type": "code",
      "metadata": {
        "id": "azxd-hEGd88V",
        "outputId": "7fcb63ec-6c5b-4230-d3be-52a91010b6bc",
        "colab": {
          "base_uri": "https://localhost:8080/",
          "height": 54
        }
      },
      "source": [
        "image_generator = tf.keras.preprocessing.image.ImageDataGenerator(validation_split=0.2,\n",
        "                                                                   rescale=1./255\n",
        "                                                                 )\n",
        "train_data_gen = image_generator.flow_from_directory(directory='drive/My Drive/animals',\n",
        "                                                     subset='training',\n",
        "                                                     target_size=(150, 150)\n",
        "                                                     )\n",
        "\n",
        "test_data_gen = image_generator.flow_from_directory(directory='drive/My Drive/animals',\n",
        "                                                   subset = 'validation',\n",
        "                                                    target_size=(150, 150)\n",
        "                                                    )"
      ],
      "execution_count": 63,
      "outputs": [
        {
          "output_type": "stream",
          "text": [
            "Found 2400 images belonging to 3 classes.\n",
            "Found 600 images belonging to 3 classes.\n"
          ],
          "name": "stdout"
        }
      ]
    },
    {
      "cell_type": "code",
      "metadata": {
        "id": "EgdrfuQYfk8m"
      },
      "source": [
        "model = tf.keras.models.Sequential([\n",
        "    tf.keras.layers.Conv2D(64, (3,3), activation='relu', input_shape=(150, 150, 3)),\n",
        "    tf.keras.layers.MaxPooling2D(2, 2),\n",
        "\n",
        "    tf.keras.layers.Conv2D(64, (3,3), activation='relu'),\n",
        "    tf.keras.layers.MaxPooling2D(2,2),\n",
        "\n",
        "    tf.keras.layers.Conv2D(128, (3,3), activation='relu'),\n",
        "    tf.keras.layers.MaxPooling2D(2,2),\n",
        "\n",
        "    tf.keras.layers.Conv2D(128, (3,3), activation='relu'),\n",
        "    tf.keras.layers.MaxPooling2D(2,2),\n",
        "\n",
        "    tf.keras.layers.Flatten(),\n",
        "    \n",
        "    tf.keras.layers.Dropout(0.5),\n",
        "    tf.keras.layers.Dense(512, activation='relu'),\n",
        "    tf.keras.layers.Dense(3, activation='softmax')\n",
        "    \n",
        "])"
      ],
      "execution_count": 64,
      "outputs": []
    },
    {
      "cell_type": "code",
      "metadata": {
        "id": "r8VQl7MUfoNQ"
      },
      "source": [
        "model.compile(loss='categorical_crossentropy',\n",
        "              optimizer='adam',\n",
        "              metrics=['accuracy'])"
      ],
      "execution_count": 65,
      "outputs": []
    },
    {
      "cell_type": "code",
      "metadata": {
        "id": "Jv8kxXmueEEO"
      },
      "source": [
        "class myCallback(tf.keras.callbacks.Callback):\n",
        "  def on_epoch_end(self, epoch, logs={}):\n",
        "    if(logs.get('val_accuracy')> 0.80):\n",
        "      print(\"\\nAkurasi telah mencapai > 80%!\")\n",
        "      self.model.stop_training = True\n",
        "callbacks = myCallback()"
      ],
      "execution_count": 66,
      "outputs": []
    },
    {
      "cell_type": "code",
      "metadata": {
        "id": "rslcoP-OfyKy",
        "outputId": "72e32dbf-3595-4599-8991-5e4fe71e61a1",
        "colab": {
          "base_uri": "https://localhost:8080/",
          "height": 781
        }
      },
      "source": [
        "history = model.fit(\n",
        "      train_data_gen ,  \n",
        "      batch_size= 32,\n",
        "      epochs=30,\n",
        "      validation_data=test_data_gen ,\n",
        "      validation_steps=5,\n",
        "      verbose=1,\n",
        "      callbacks=[callbacks])"
      ],
      "execution_count": 67,
      "outputs": [
        {
          "output_type": "stream",
          "text": [
            "Epoch 1/30\n",
            "75/75 [==============================] - 137s 2s/step - loss: 0.9106 - accuracy: 0.5058 - val_loss: 0.7791 - val_accuracy: 0.5875\n",
            "Epoch 2/30\n",
            "75/75 [==============================] - 136s 2s/step - loss: 0.7521 - accuracy: 0.6137 - val_loss: 0.7541 - val_accuracy: 0.5688\n",
            "Epoch 3/30\n",
            "75/75 [==============================] - 135s 2s/step - loss: 0.6828 - accuracy: 0.6612 - val_loss: 0.6871 - val_accuracy: 0.6500\n",
            "Epoch 4/30\n",
            "75/75 [==============================] - 138s 2s/step - loss: 0.6374 - accuracy: 0.6800 - val_loss: 0.6761 - val_accuracy: 0.6438\n",
            "Epoch 5/30\n",
            "75/75 [==============================] - 135s 2s/step - loss: 0.5717 - accuracy: 0.7250 - val_loss: 0.6103 - val_accuracy: 0.7000\n",
            "Epoch 6/30\n",
            "75/75 [==============================] - 135s 2s/step - loss: 0.5441 - accuracy: 0.7321 - val_loss: 0.6164 - val_accuracy: 0.6750\n",
            "Epoch 7/30\n",
            "75/75 [==============================] - 136s 2s/step - loss: 0.5212 - accuracy: 0.7500 - val_loss: 0.6342 - val_accuracy: 0.6812\n",
            "Epoch 8/30\n",
            "75/75 [==============================] - 136s 2s/step - loss: 0.4808 - accuracy: 0.7629 - val_loss: 0.7565 - val_accuracy: 0.6938\n",
            "Epoch 9/30\n",
            "75/75 [==============================] - 138s 2s/step - loss: 0.4328 - accuracy: 0.7979 - val_loss: 0.5488 - val_accuracy: 0.7625\n",
            "Epoch 10/30\n",
            "75/75 [==============================] - 135s 2s/step - loss: 0.4194 - accuracy: 0.8021 - val_loss: 0.6587 - val_accuracy: 0.7250\n",
            "Epoch 11/30\n",
            "75/75 [==============================] - 135s 2s/step - loss: 0.3633 - accuracy: 0.8292 - val_loss: 0.4957 - val_accuracy: 0.7437\n",
            "Epoch 12/30\n",
            "75/75 [==============================] - 135s 2s/step - loss: 0.3493 - accuracy: 0.8442 - val_loss: 0.5705 - val_accuracy: 0.7563\n",
            "Epoch 13/30\n",
            "75/75 [==============================] - 141s 2s/step - loss: 0.3416 - accuracy: 0.8592 - val_loss: 0.6774 - val_accuracy: 0.7188\n",
            "Epoch 14/30\n",
            "75/75 [==============================] - 136s 2s/step - loss: 0.2677 - accuracy: 0.8821 - val_loss: 0.5734 - val_accuracy: 0.7812\n",
            "Epoch 15/30\n",
            "75/75 [==============================] - 135s 2s/step - loss: 0.2195 - accuracy: 0.9054 - val_loss: 0.8749 - val_accuracy: 0.7500\n",
            "Epoch 16/30\n",
            "75/75 [==============================] - 135s 2s/step - loss: 0.2096 - accuracy: 0.9096 - val_loss: 0.6647 - val_accuracy: 0.7125\n",
            "Epoch 17/30\n",
            "75/75 [==============================] - 135s 2s/step - loss: 0.2191 - accuracy: 0.9117 - val_loss: 1.0144 - val_accuracy: 0.6812\n",
            "Epoch 18/30\n",
            "75/75 [==============================] - 139s 2s/step - loss: 0.1794 - accuracy: 0.9258 - val_loss: 0.8744 - val_accuracy: 0.7312\n",
            "Epoch 19/30\n",
            "75/75 [==============================] - 135s 2s/step - loss: 0.1405 - accuracy: 0.9429 - val_loss: 1.1288 - val_accuracy: 0.7437\n",
            "Epoch 20/30\n",
            "75/75 [==============================] - ETA: 0s - loss: 0.1257 - accuracy: 0.9563\n",
            "Akurasi telah mencapai > 80%!\n",
            "75/75 [==============================] - 135s 2s/step - loss: 0.1257 - accuracy: 0.9563 - val_loss: 0.7193 - val_accuracy: 0.8000\n"
          ],
          "name": "stdout"
        }
      ]
    },
    {
      "cell_type": "code",
      "metadata": {
        "id": "83AYmQuefVAd",
        "outputId": "eca27455-64a2-4ff9-ffc7-785648f3fd73",
        "colab": {
          "base_uri": "https://localhost:8080/",
          "height": 573
        }
      },
      "source": [
        "import matplotlib.pyplot as plt\n",
        "# summarize history for accuracy\n",
        "plt.plot(history.history['accuracy'])\n",
        "plt.plot(history.history['val_accuracy'])\n",
        "plt.title('model accuracy')\n",
        "plt.ylabel('accuracy')\n",
        "plt.xlabel('epoch')\n",
        "plt.legend(['train', 'test'], loc='upper left')\n",
        "plt.show()\n",
        "# summarize history for loss\n",
        "plt.plot(history.history['loss'])\n",
        "plt.plot(history.history['val_loss'])\n",
        "plt.title('model loss')\n",
        "plt.ylabel('loss')\n",
        "plt.xlabel('epoch')\n",
        "plt.legend(['train', 'test'], loc='upper left')\n",
        "plt.show()"
      ],
      "execution_count": 69,
      "outputs": [
        {
          "output_type": "display_data",
          "data": {
            "image/png": "[encoded data removed]",
            "text/plain": [
              "<Figure size 432x288 with 1 Axes>"
            ]
          },
          "metadata": {
            "tags": [],
            "needs_background": "light"
          }
        },
        {
          "output_type": "display_data",
          "data": {
            "image/png": "[encoded data removed]",
            "text/plain": [
              "<Figure size 432x288 with 1 Axes>"
            ]
          },
          "metadata": {
            "tags": [],
            "needs_background": "light"
          }
        }
      ]
    },
    {
      "cell_type": "code",
      "metadata": {
        "id": "6ATxO4hmf3ZD",
        "outputId": "86b72696-e705-4ebc-922d-d8cbea37fa07",
        "colab": {
          "base_uri": "https://localhost:8080/",
          "height": 165
        }
      },
      "source": [
        "# Konversi model.\n",
        "converter = tf.lite.TFLiteConverter.from_keras_model(model)\n",
        "tflite_model = converter.convert()"
      ],
      "execution_count": 70,
      "outputs": [
        {
          "output_type": "stream",
          "text": [
            "WARNING:tensorflow:From /usr/local/lib/python3.6/dist-packages/tensorflow/python/training/tracking/tracking.py:111: Model.state_updates (from tensorflow.python.keras.engine.training) is deprecated and will be removed in a future version.\n",
            "Instructions for updating:\n",
            "This property should not be used in TensorFlow 2.0, as updates are applied automatically.\n",
            "WARNING:tensorflow:From /usr/local/lib/python3.6/dist-packages/tensorflow/python/training/tracking/tracking.py:111: Layer.updates (from tensorflow.python.keras.engine.base_layer) is deprecated and will be removed in a future version.\n",
            "Instructions for updating:\n",
            "This property should not be used in TensorFlow 2.0, as updates are applied automatically.\n",
            "INFO:tensorflow:Assets written to: /tmp/tmpllxxza3m/assets\n"
          ],
          "name": "stdout"
        }
      ]
    },
    {
      "cell_type": "code",
      "metadata": {
        "id": "2_fkvLvQgFNp"
      },
      "source": [
        "with tf.io.gfile.GFile('model.tflite', 'wb') as f:\n",
        "  f.write(tflite_model)"
      ],
      "execution_count": 71,
      "outputs": []
    }
  ]
}