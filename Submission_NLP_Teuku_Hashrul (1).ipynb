{
  "nbformat": 4,
  "nbformat_minor": 0,
  "metadata": {
    "colab": {
      "name": "Submission NLP Teuku Hashrul",
      "provenance": []
    },
    "kernelspec": {
      "name": "python3",
      "display_name": "Python 3"
    }
  },
  "cells": [
    {
      "cell_type": "code",
      "metadata": {
        "id": "QEXydoJUNpel"
      },
      "source": [
        "#read data\n",
        "from google.colab import files \n",
        "files.upload() \n",
        "\n",
        "\n",
        "#from google.colab import drive\n",
        "#drive.mount('/content/drive')"
      ],
      "execution_count": null,
      "outputs": []
    },
    {
      "cell_type": "code",
      "metadata": {
        "id": "Q_c_BPICvkEF"
      },
      "source": [
        "#import os \n",
        "#os.chdir('/content/drive/My Drive/')\n",
        "#print(os.listdir())\n",
        "\n",
        "%ls"
      ],
      "execution_count": null,
      "outputs": []
    },
    {
      "cell_type": "code",
      "metadata": {
        "id": "xeXTZDQlN4Yq"
      },
      "source": [
        "\n",
        "import pandas as pd\n",
        "import os \n",
        "\n",
        "#read dataset\n",
        "dataset = pd.read_csv('all-data.csv',encoding = \"ISO-8859-1\")\n",
        "dataset.head()"
      ],
      "execution_count": null,
      "outputs": []
    },
    {
      "cell_type": "code",
      "metadata": {
        "id": "FLnOzeQ6OT_A"
      },
      "source": [
        "# one hot encoding the class\n",
        "sentiment = pd.get_dummies(dataset['class'])\n",
        "dataset = pd.concat([dataset, sentiment], axis=1)\n",
        "dataset= dataset.drop(columns='class')\n",
        "\n"
      ],
      "execution_count": null,
      "outputs": []
    },
    {
      "cell_type": "code",
      "metadata": {
        "id": "sDY3pgiOPCwU"
      },
      "source": [
        "\n",
        "#copy theo riginal \n",
        "dataset['og_news'] = dataset['news']\n",
        "\n",
        "#lower text \n",
        "dataset['news'] = dataset['news'].str.lower()\n",
        "\n",
        "\n",
        "# remove punctuation \n",
        "dataset['news'] = dataset['news'].str.replace('[^\\w\\s]','')\n",
        "dataset.head()\n",
        "\n",
        "\n",
        "# remove stopwords \n",
        "import nltk\n",
        "nltk.download('stopwords')\n",
        "from nltk.corpus import stopwords\n",
        "stop = stopwords.words('english')\n",
        "dataset['news'] = dataset['news'].apply(lambda x: ' '.join([word for word in x.split() if word not in (stop)]))\n",
        "\n",
        "\n",
        "\n",
        "\n",
        "#stemming \n",
        "from nltk.stem import PorterStemmer \n",
        "ps = PorterStemmer() \n",
        "\n",
        "#remove link and only take alpha numeric value \n",
        "import re \n",
        "pattern = re.compile('http[s]?://(?:[a-zA-Z]|[0-9]|[$-_@.&+]|[!*\\(\\),]|(?:%[0-9a-fA-F][0-9a-fA-F]))+')\n",
        "for i, row in dataset.iterrows():\n",
        "    textNow = row.news\n",
        "    textCleaned = pattern.sub('', str(textNow) )\n",
        "    textCleaned = re.sub('[^0-9a-zA-Z]+', ' ', textCleaned)\n",
        "\n",
        "    #PorterStemmer\n",
        "    stemmedSentence  = \"\"\n",
        "    for word in textCleaned.split(\" \"):\n",
        "      stemmedSentence = stemmedSentence + ps.stem(word) + \" \"\n",
        "\n",
        "    # Remove Number \n",
        "    stemmedSentence = re.sub(r\"\\d+\", \"\", stemmedSentence)\n",
        "    dataset.at[i,'news'] =  stemmedSentence\n",
        "\n",
        "\n",
        "#dataset.to_csv('all-data_cleaned.csv')\n",
        "#files.download('all-data_cleaned.csv')\n"
      ],
      "execution_count": null,
      "outputs": []
    },
    {
      "cell_type": "code",
      "metadata": {
        "id": "bHarF--tSYJN"
      },
      "source": [
        "dataset.head()"
      ],
      "execution_count": null,
      "outputs": []
    },
    {
      "cell_type": "code",
      "metadata": {
        "id": "OYHa82loR0Yh"
      },
      "source": [
        "#divide between news as attribute and sentiment as a class\n",
        "news = dataset['news'].values \n",
        "label= dataset[['negative' , 'neutral','positive']]"
      ],
      "execution_count": null,
      "outputs": []
    },
    {
      "cell_type": "code",
      "metadata": {
        "id": "hvcrlgIPSm36"
      },
      "source": [
        "from sklearn.model_selection import train_test_split \n",
        "attribute_train , attribute_test , label_train , label_test = train_test_split(news,label,test_size = 0.2)"
      ],
      "execution_count": null,
      "outputs": []
    },
    {
      "cell_type": "code",
      "metadata": {
        "id": "TiPpmXIGTEW5"
      },
      "source": [
        "from tensorflow.keras.preprocessing.text import Tokenizer\n",
        "from tensorflow.keras.preprocessing.sequence import pad_sequences\n",
        " \n",
        "tokenizer = Tokenizer(num_words=1000)\n",
        "tokenizer.fit_on_texts(attribute_train) \n",
        "tokenizer.fit_on_texts(attribute_test)\n",
        " \n",
        "sequence_train = tokenizer.texts_to_sequences(attribute_train)\n",
        "sequence_test = tokenizer.texts_to_sequences(attribute_test)\n",
        " \n",
        "pad_train = pad_sequences(sequence_train) \n",
        "pad_test = pad_sequences(sequence_test)"
      ],
      "execution_count": null,
      "outputs": []
    },
    {
      "cell_type": "code",
      "metadata": {
        "id": "-wd-NsunTH3G"
      },
      "source": [
        "import tensorflow as tf\n",
        "model = tf.keras.Sequential([\n",
        "    tf.keras.layers.Embedding(input_dim=1000, output_dim=16),\n",
        "    tf.keras.layers.SpatialDropout1D(0.8),\n",
        "    #tf.keras.layers.LSTM(64,return_sequences=True),\n",
        "    tf.keras.layers.LSTM(16, dropout=0.1 ),\n",
        "    #tf.keras.layers.Dense(128, activation='relu'),\n",
        "    tf.keras.layers.Dense(64, activation='relu'),\n",
        "    #tf.keras.layers.Dense(3, activation='relu'),\n",
        "    tf.keras.layers.Dense(3, activation='softmax')\n",
        "])\n",
        "model.compile(loss='categorical_crossentropy',optimizer='adam',metrics=['accuracy'])"
      ],
      "execution_count": null,
      "outputs": []
    },
    {
      "cell_type": "code",
      "metadata": {
        "id": "sHRSmLskKWal"
      },
      "source": [
        "dataset.head()"
      ],
      "execution_count": null,
      "outputs": []
    },
    {
      "cell_type": "code",
      "metadata": {
        "id": "haX_S6UrNyGn"
      },
      "source": [
        "class myCallback(tf.keras.callbacks.Callback):\n",
        "  def on_epoch_end(self, epoch, logs={}):\n",
        "    if(logs.get('val_accuracy')>0.75):\n",
        "      print(\"\\nAkurasi telah mencapai >= 85%!\")\n",
        "      self.model.stop_training = True\n",
        "callbacks = myCallback()"
      ],
      "execution_count": null,
      "outputs": []
    },
    {
      "cell_type": "code",
      "metadata": {
        "id": "KQsxWeQdTRcL",
        "outputId": "9b9b374b-ca18-421d-bb0a-4e1ee1dc1f47",
        "colab": {
          "base_uri": "https://localhost:8080/",
          "height": 1000
        }
      },
      "source": [
        "history = model.fit(pad_train, label_train, epochs=40,\n",
        "                    validation_data=(pad_test, label_test), verbose=2, callbacks= [callbacks])"
      ],
      "execution_count": null,
      "outputs": [
        {
          "output_type": "stream",
          "text": [
            "Epoch 1/40\n",
            "122/122 - 2s - loss: 0.9329 - accuracy: 0.5952 - val_loss: 0.8852 - val_accuracy: 0.5897\n",
            "Epoch 2/40\n",
            "122/122 - 2s - loss: 0.8401 - accuracy: 0.6349 - val_loss: 0.8159 - val_accuracy: 0.6371\n",
            "Epoch 3/40\n",
            "122/122 - 2s - loss: 0.7732 - accuracy: 0.6731 - val_loss: 0.7754 - val_accuracy: 0.6474\n",
            "Epoch 4/40\n",
            "122/122 - 2s - loss: 0.7345 - accuracy: 0.6907 - val_loss: 0.7610 - val_accuracy: 0.6649\n",
            "Epoch 5/40\n",
            "122/122 - 2s - loss: 0.7180 - accuracy: 0.6999 - val_loss: 0.7435 - val_accuracy: 0.6773\n",
            "Epoch 6/40\n",
            "122/122 - 2s - loss: 0.6927 - accuracy: 0.7036 - val_loss: 0.7302 - val_accuracy: 0.6794\n",
            "Epoch 7/40\n",
            "122/122 - 2s - loss: 0.6699 - accuracy: 0.7245 - val_loss: 0.7358 - val_accuracy: 0.6814\n",
            "Epoch 8/40\n",
            "122/122 - 2s - loss: 0.6769 - accuracy: 0.7149 - val_loss: 0.7528 - val_accuracy: 0.6814\n",
            "Epoch 9/40\n",
            "122/122 - 2s - loss: 0.6681 - accuracy: 0.7188 - val_loss: 0.7475 - val_accuracy: 0.6814\n",
            "Epoch 10/40\n",
            "122/122 - 2s - loss: 0.6467 - accuracy: 0.7312 - val_loss: 0.7527 - val_accuracy: 0.6866\n",
            "Epoch 11/40\n",
            "122/122 - 2s - loss: 0.6467 - accuracy: 0.7276 - val_loss: 0.7490 - val_accuracy: 0.6907\n",
            "Epoch 12/40\n",
            "122/122 - 2s - loss: 0.6313 - accuracy: 0.7325 - val_loss: 0.7493 - val_accuracy: 0.6907\n",
            "Epoch 13/40\n",
            "122/122 - 2s - loss: 0.6280 - accuracy: 0.7307 - val_loss: 0.7662 - val_accuracy: 0.6938\n",
            "Epoch 14/40\n",
            "122/122 - 2s - loss: 0.6249 - accuracy: 0.7374 - val_loss: 0.7535 - val_accuracy: 0.6814\n",
            "Epoch 15/40\n",
            "122/122 - 2s - loss: 0.6206 - accuracy: 0.7340 - val_loss: 0.7400 - val_accuracy: 0.6969\n",
            "Epoch 16/40\n",
            "122/122 - 2s - loss: 0.6104 - accuracy: 0.7415 - val_loss: 0.7593 - val_accuracy: 0.6918\n",
            "Epoch 17/40\n",
            "122/122 - 2s - loss: 0.6203 - accuracy: 0.7428 - val_loss: 0.7469 - val_accuracy: 0.6845\n",
            "Epoch 18/40\n",
            "122/122 - 2s - loss: 0.5970 - accuracy: 0.7539 - val_loss: 0.7324 - val_accuracy: 0.6969\n",
            "Epoch 19/40\n",
            "122/122 - 2s - loss: 0.6041 - accuracy: 0.7479 - val_loss: 0.7426 - val_accuracy: 0.6979\n",
            "Epoch 20/40\n",
            "122/122 - 2s - loss: 0.5926 - accuracy: 0.7546 - val_loss: 0.7287 - val_accuracy: 0.7289\n",
            "Epoch 21/40\n",
            "122/122 - 2s - loss: 0.5691 - accuracy: 0.7773 - val_loss: 0.7198 - val_accuracy: 0.7485\n",
            "Epoch 22/40\n",
            "122/122 - 2s - loss: 0.5792 - accuracy: 0.7660 - val_loss: 0.7173 - val_accuracy: 0.7247\n",
            "Epoch 23/40\n",
            "122/122 - 2s - loss: 0.5597 - accuracy: 0.7730 - val_loss: 0.7057 - val_accuracy: 0.7474\n",
            "Epoch 24/40\n",
            "122/122 - 2s - loss: 0.5671 - accuracy: 0.7784 - val_loss: 0.7065 - val_accuracy: 0.7268\n",
            "Epoch 25/40\n",
            "122/122 - 2s - loss: 0.5715 - accuracy: 0.7722 - val_loss: 0.7025 - val_accuracy: 0.7464\n",
            "Epoch 26/40\n",
            "122/122 - 2s - loss: 0.5553 - accuracy: 0.7766 - val_loss: 0.7080 - val_accuracy: 0.7320\n",
            "Epoch 27/40\n",
            "122/122 - 2s - loss: 0.5436 - accuracy: 0.7851 - val_loss: 0.6955 - val_accuracy: 0.7392\n",
            "Epoch 28/40\n",
            "122/122 - 2s - loss: 0.5297 - accuracy: 0.7949 - val_loss: 0.6974 - val_accuracy: 0.7454\n",
            "Epoch 29/40\n",
            "\n",
            "Akurasi telah mencapai >= 85%!\n",
            "122/122 - 2s - loss: 0.5267 - accuracy: 0.7900 - val_loss: 0.6981 - val_accuracy: 0.7505\n"
          ],
          "name": "stdout"
        }
      ]
    },
    {
      "cell_type": "code",
      "metadata": {
        "id": "wHXcPx_QTwEK",
        "outputId": "fe2170e3-62ea-4a11-aae9-07ab8ddc4b96",
        "colab": {
          "base_uri": "https://localhost:8080/",
          "height": 295
        }
      },
      "source": [
        "import matplotlib.pyplot as plt\n",
        "plt.plot(history.history['accuracy'])\n",
        "plt.plot(history.history['val_accuracy'])\n",
        "plt.title('Akurasi Model')\n",
        "plt.ylabel('accuracy')\n",
        "plt.xlabel('epoch')\n",
        "plt.legend(['train', 'test'], loc='upper left')\n",
        "plt.show()"
      ],
      "execution_count": null,
      "outputs": [
        {
          "output_type": "display_data",
          "data": {
            "image/png": "[encoded data removed]",
            "text/plain": [
              "<Figure size 432x288 with 1 Axes>"
            ]
          },
          "metadata": {
            "tags": [],
            "needs_background": "light"
          }
        }
      ]
    },
    {
      "cell_type": "code",
      "metadata": {
        "id": "oZgvYQ-iTy4V",
        "outputId": "bb228931-7af2-42ad-c66c-125148854698",
        "colab": {
          "base_uri": "https://localhost:8080/",
          "height": 295
        }
      },
      "source": [
        "plt.plot(history.history['loss'])\n",
        "plt.plot(history.history['val_loss'])\n",
        "plt.title('Loss Model')\n",
        "plt.ylabel('loss')\n",
        "plt.xlabel('epoch')\n",
        "plt.legend(['train', 'test'], loc='upper left')\n",
        "plt.show()"
      ],
      "execution_count": null,
      "outputs": [
        {
          "output_type": "display_data",
          "data": {
            "image/png": "[encoded data removed]",
            "text/plain": [
              "<Figure size 432x288 with 1 Axes>"
            ]
          },
          "metadata": {
            "tags": [],
            "needs_background": "light"
          }
        }
      ]
    }
  ]
}