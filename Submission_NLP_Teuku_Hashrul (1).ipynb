{
  "nbformat": 4,
  "nbformat_minor": 0,
  "metadata": {
    "colab": {
      "name": "Submission NLP Teuku Hashrul",
      "provenance": [],
      "collapsed_sections": []
    },
    "kernelspec": {
      "name": "python3",
      "display_name": "Python 3"
    }
  },
  "cells": [
    {
      "cell_type": "code",
      "metadata": {
        "id": "O1OMkhaYSyIl"
      },
      "source": [
        "\n",
        "\n",
        "# DATASET SOURCE :    https://www.kaggle.com/datatattle/covid-19-nlp-text-classification\n",
        "\n",
        "from google.colab import files \n",
        "files.upload() \n",
        "\n",
        "#from google.colab import drive\n",
        "#drive.mount('/content/gdrive')"
      ],
      "execution_count": null,
      "outputs": []
    },
    {
      "cell_type": "code",
      "metadata": {
        "id": "6F5hkrE2bZxE"
      },
      "source": [
        "\n",
        "import pandas as pd\n",
        "import os \n",
        "\n",
        "\n",
        "df_train = pd.read_csv('Corona_NLP_train.csv',encoding = \"ISO-8859-1\")\n",
        "df_test = pd.read_csv('Corona_NLP_test.csv',encoding = \"ISO-8859-1\")\n",
        "\n",
        "frames = [df_train,df_test] \n",
        "\n",
        "result = pd.concat(frames)"
      ],
      "execution_count": null,
      "outputs": []
    },
    {
      "cell_type": "code",
      "metadata": {
        "id": "LcMNaFuH2JAg"
      },
      "source": [
        ""
      ],
      "execution_count": null,
      "outputs": []
    },
    {
      "cell_type": "code",
      "metadata": {
        "id": "shrMtYdBdFRj"
      },
      "source": [
        "dataframe = result[['OriginalTweet',  'Sentiment']]\n",
        "# sample to 5000 \n",
        "#dataframe = dataframe.sample(n=5000) \n",
        "#dataframe.shape[0]"
      ],
      "execution_count": null,
      "outputs": []
    },
    {
      "cell_type": "code",
      "metadata": {
        "id": "gMKP3yaweVtj",
        "outputId": "13514072-2af1-47f6-9cab-ee765594ceaf",
        "colab": {
          "base_uri": "https://localhost:8080/",
          "height": 231
        }
      },
      "source": [
        "# one hot encoding the sentiment label\n",
        "sentiment = pd.get_dummies(dataframe.Sentiment)\n",
        "dataframe_one = pd.concat([dataframe, sentiment], axis=1)\n",
        "dataframe_one = dataframe_one.drop(columns='Sentiment')\n",
        "\n",
        "\n",
        "\n",
        "#text cleaning tweets \n",
        "dataframe_one['CleanedTweet'] = dataframe['OriginalTweet']\n",
        "\n",
        "#lower text \n",
        "dataframe_one['CleanedTweet'] = dataframe_one['CleanedTweet'].str.lower()\n",
        "\n",
        "\n",
        "\n",
        "\n",
        "\n",
        "\n",
        "# remove punctuation \n",
        "#dataframe_one['CleanedTweet'] = dataframe_one['CleanedTweet'].str.replace('[^\\w\\s]','')\n",
        "\n",
        "# remove stopwords \n",
        "import nltk\n",
        "nltk.download('stopwords')\n",
        "from nltk.corpus import stopwords\n",
        "stop = stopwords.words('english')\n",
        "dataframe_one['CleanedTweet'] = dataframe_one['CleanedTweet'].apply(lambda x: ' '.join([word for word in x.split() if word not in (stop)]))\n",
        "\n",
        "#stemming \n",
        "from nltk.stem import PorterStemmer \n",
        "ps = PorterStemmer() \n",
        "\n",
        "\n",
        "\n",
        "#dataframe_one.to_csv('test.csv')\n",
        "#files.download('test.csv')\n",
        "\n",
        "\n",
        "#remove link and only take alpha numeric value \n",
        "import re \n",
        "pattern = re.compile('http[s]?://(?:[a-zA-Z]|[0-9]|[$-_@.&+]|[!*\\(\\),]|(?:%[0-9a-fA-F][0-9a-fA-F]))+')\n",
        "for i, row in dataframe_one.iterrows():\n",
        "    textNow = row.CleanedTweet\n",
        "    textCleaned = pattern.sub('', str(textNow) )\n",
        "    textCleaned = re.sub('[^0-9a-zA-Z]+', ' ', textCleaned)\n",
        "\n",
        "    #PorterStemmer\n",
        "    stemmedSentence  = \"\"\n",
        "    for word in textCleaned.split(\" \"):\n",
        "      stemmedSentence = stemmedSentence + ps.stem(word) + \" \"\n",
        "\n",
        "    # Remove Number \n",
        "    stemmedSentence = re.sub(r\"\\d+\", \"\", stemmedSentence)\n",
        "    dataframe_one.at[i,'CleanedTweet'] =  stemmedSentence\n",
        "\n",
        "\n",
        "    \n",
        "\n",
        "\n"
      ],
      "execution_count": null,
      "outputs": [
        {
          "output_type": "error",
          "ename": "NameError",
          "evalue": "ignored",
          "traceback": [
            "\u001b[0;31m---------------------------------------------------------------------------\u001b[0m",
            "\u001b[0;31mNameError\u001b[0m                                 Traceback (most recent call last)",
            "\u001b[0;32m<ipython-input-3-5ab8f097c3e9>\u001b[0m in \u001b[0;36m<module>\u001b[0;34m()\u001b[0m\n\u001b[1;32m      1\u001b[0m \u001b[0;31m# one hot encoding the sentiment label\u001b[0m\u001b[0;34m\u001b[0m\u001b[0;34m\u001b[0m\u001b[0;34m\u001b[0m\u001b[0m\n\u001b[0;32m----> 2\u001b[0;31m \u001b[0msentiment\u001b[0m \u001b[0;34m=\u001b[0m \u001b[0mpd\u001b[0m\u001b[0;34m.\u001b[0m\u001b[0mget_dummies\u001b[0m\u001b[0;34m(\u001b[0m\u001b[0mdataframe\u001b[0m\u001b[0;34m.\u001b[0m\u001b[0mSentiment\u001b[0m\u001b[0;34m)\u001b[0m\u001b[0;34m\u001b[0m\u001b[0;34m\u001b[0m\u001b[0m\n\u001b[0m\u001b[1;32m      3\u001b[0m \u001b[0mdataframe_one\u001b[0m \u001b[0;34m=\u001b[0m \u001b[0mpd\u001b[0m\u001b[0;34m.\u001b[0m\u001b[0mconcat\u001b[0m\u001b[0;34m(\u001b[0m\u001b[0;34m[\u001b[0m\u001b[0mdataframe\u001b[0m\u001b[0;34m,\u001b[0m \u001b[0msentiment\u001b[0m\u001b[0;34m]\u001b[0m\u001b[0;34m,\u001b[0m \u001b[0maxis\u001b[0m\u001b[0;34m=\u001b[0m\u001b[0;36m1\u001b[0m\u001b[0;34m)\u001b[0m\u001b[0;34m\u001b[0m\u001b[0;34m\u001b[0m\u001b[0m\n\u001b[1;32m      4\u001b[0m \u001b[0mdataframe_one\u001b[0m \u001b[0;34m=\u001b[0m \u001b[0mdataframe_one\u001b[0m\u001b[0;34m.\u001b[0m\u001b[0mdrop\u001b[0m\u001b[0;34m(\u001b[0m\u001b[0mcolumns\u001b[0m\u001b[0;34m=\u001b[0m\u001b[0;34m'Sentiment'\u001b[0m\u001b[0;34m)\u001b[0m\u001b[0;34m\u001b[0m\u001b[0;34m\u001b[0m\u001b[0m\n\u001b[1;32m      5\u001b[0m \u001b[0;34m\u001b[0m\u001b[0m\n",
            "\u001b[0;31mNameError\u001b[0m: name 'pd' is not defined"
          ]
        }
      ]
    },
    {
      "cell_type": "code",
      "metadata": {
        "id": "Yifj2M2ce7ho",
        "outputId": "6a5ee11c-c9fa-4391-d0c2-785433a06a53",
        "colab": {
          "base_uri": "https://localhost:8080/",
          "height": 197
        }
      },
      "source": [
        "#divide between original tweets as attribute and sentiment as a label \n",
        "tweets = dataframe_one['CleanedTweet'].values \n",
        "sentiments = dataframe_one[['Extremely Negative' , 'Extremely Positive' , 'Negative' , 'Neutral', 'Positive']]"
      ],
      "execution_count": null,
      "outputs": [
        {
          "output_type": "error",
          "ename": "NameError",
          "evalue": "ignored",
          "traceback": [
            "\u001b[0;31m---------------------------------------------------------------------------\u001b[0m",
            "\u001b[0;31mNameError\u001b[0m                                 Traceback (most recent call last)",
            "\u001b[0;32m<ipython-input-2-79507e4a0156>\u001b[0m in \u001b[0;36m<module>\u001b[0;34m()\u001b[0m\n\u001b[1;32m      1\u001b[0m \u001b[0;31m#divide between original tweets as attribute and sentiment as a label\u001b[0m\u001b[0;34m\u001b[0m\u001b[0;34m\u001b[0m\u001b[0;34m\u001b[0m\u001b[0m\n\u001b[0;32m----> 2\u001b[0;31m \u001b[0mtweets\u001b[0m \u001b[0;34m=\u001b[0m \u001b[0mdataframe_one\u001b[0m\u001b[0;34m[\u001b[0m\u001b[0;34m'CleanedTweet'\u001b[0m\u001b[0;34m]\u001b[0m\u001b[0;34m.\u001b[0m\u001b[0mvalues\u001b[0m\u001b[0;34m\u001b[0m\u001b[0;34m\u001b[0m\u001b[0m\n\u001b[0m\u001b[1;32m      3\u001b[0m \u001b[0msentiments\u001b[0m \u001b[0;34m=\u001b[0m \u001b[0mdataframe_one\u001b[0m\u001b[0;34m[\u001b[0m\u001b[0;34m[\u001b[0m\u001b[0;34m'Extremely Negative'\u001b[0m \u001b[0;34m,\u001b[0m \u001b[0;34m'Extremely Positive'\u001b[0m \u001b[0;34m,\u001b[0m \u001b[0;34m'Negative'\u001b[0m \u001b[0;34m,\u001b[0m \u001b[0;34m'Neutral'\u001b[0m\u001b[0;34m,\u001b[0m \u001b[0;34m'Positive'\u001b[0m\u001b[0;34m]\u001b[0m\u001b[0;34m]\u001b[0m\u001b[0;34m\u001b[0m\u001b[0;34m\u001b[0m\u001b[0m\n",
            "\u001b[0;31mNameError\u001b[0m: name 'dataframe_one' is not defined"
          ]
        }
      ]
    },
    {
      "cell_type": "code",
      "metadata": {
        "id": "oM7OrtndfhMc"
      },
      "source": [
        "from sklearn.model_selection import train_test_split \n",
        "attribute_train , attribute_test , label_train , label_test = train_test_split(tweets,sentiment,test_size = 0.2)"
      ],
      "execution_count": null,
      "outputs": []
    },
    {
      "cell_type": "code",
      "metadata": {
        "id": "F_7HXtJVf4iR"
      },
      "source": [
        "from tensorflow.keras.preprocessing.text import Tokenizer\n",
        "from tensorflow.keras.preprocessing.sequence import pad_sequences\n",
        " \n",
        "tokenizer = Tokenizer(num_words=100000, oov_token='-')\n",
        "tokenizer.fit_on_texts(attribute_train) \n",
        "tokenizer.fit_on_texts(attribute_test)\n",
        " \n",
        "sequence_train = tokenizer.texts_to_sequences(attribute_train)\n",
        "sequence_test = tokenizer.texts_to_sequences(attribute_test)\n",
        " \n",
        "pad_train = pad_sequences(sequence_train) \n",
        "pad_test = pad_sequences(sequence_test)"
      ],
      "execution_count": null,
      "outputs": []
    },
    {
      "cell_type": "code",
      "metadata": {
        "id": "VqmEHmFfhGiK"
      },
      "source": [
        "import tensorflow as tf\n",
        "model = tf.keras.Sequential([\n",
        "    tf.keras.layers.Embedding(input_dim=100000, output_dim=16),\n",
        "    tf.keras.layers.Bidirectional(tf.keras.layers.LSTM(128 , dropout=0.5)),\n",
        "    tf.keras.layers.Dense(128, activation='relu'),\n",
        "    tf.keras.layers.Dense(64, activation='relu'),\n",
        "    tf.keras.layers.Dense(32, activation='relu'),\n",
        "    tf.keras.layers.Dense(5, activation='softmax')\n",
        "])\n",
        "model.compile(loss='categorical_crossentropy',optimizer='adam',metrics=['accuracy'])"
      ],
      "execution_count": null,
      "outputs": []
    },
    {
      "cell_type": "code",
      "metadata": {
        "id": "Whz8CZtyhQrU",
        "outputId": "702dde15-5ba7-4c17-d4ac-73422c121870",
        "colab": {
          "base_uri": "https://localhost:8080/",
          "height": 357
        }
      },
      "source": [
        "history = model.fit(pad_train, label_train, epochs=10, batch_size=32, \n",
        "                    validation_data=(pad_test, label_test), verbose=2)"
      ],
      "execution_count": null,
      "outputs": [
        {
          "output_type": "stream",
          "text": [
            "Epoch 1/10\n",
            "1124/1124 - 114s - loss: 1.4339 - accuracy: 0.3611 - val_loss: 1.1804 - val_accuracy: 0.5220\n",
            "Epoch 2/10\n",
            "1124/1124 - 113s - loss: 1.0953 - accuracy: 0.5658 - val_loss: 1.0004 - val_accuracy: 0.6186\n",
            "Epoch 3/10\n",
            "1124/1124 - 113s - loss: 0.9368 - accuracy: 0.6505 - val_loss: 0.9706 - val_accuracy: 0.6357\n",
            "Epoch 4/10\n",
            "1124/1124 - 114s - loss: 0.8607 - accuracy: 0.6857 - val_loss: 0.9759 - val_accuracy: 0.6476\n",
            "Epoch 5/10\n",
            "1124/1124 - 115s - loss: 0.7990 - accuracy: 0.7139 - val_loss: 0.9854 - val_accuracy: 0.6493\n",
            "Epoch 6/10\n",
            "1124/1124 - 114s - loss: 0.7537 - accuracy: 0.7326 - val_loss: 1.0020 - val_accuracy: 0.6356\n",
            "Epoch 7/10\n",
            "1124/1124 - 114s - loss: 0.7127 - accuracy: 0.7479 - val_loss: 1.0245 - val_accuracy: 0.6416\n",
            "Epoch 8/10\n",
            "1124/1124 - 114s - loss: 0.6858 - accuracy: 0.7606 - val_loss: 1.0355 - val_accuracy: 0.6415\n",
            "Epoch 9/10\n",
            "1124/1124 - 115s - loss: 0.6557 - accuracy: 0.7702 - val_loss: 1.0441 - val_accuracy: 0.6443\n",
            "Epoch 10/10\n",
            "1124/1124 - 115s - loss: 0.6299 - accuracy: 0.7803 - val_loss: 1.0963 - val_accuracy: 0.6373\n"
          ],
          "name": "stdout"
        }
      ]
    },
    {
      "cell_type": "code",
      "metadata": {
        "id": "luQTumFejE1Y",
        "outputId": "b3795082-2ab0-48f2-d607-934f24e749ae",
        "colab": {
          "base_uri": "https://localhost:8080/",
          "height": 295
        }
      },
      "source": [
        "import matplotlib.pyplot as plt\n",
        "plt.plot(history.history['accuracy'])\n",
        "plt.plot(history.history['val_accuracy'])\n",
        "plt.title('Akurasi Model')\n",
        "plt.ylabel('accuracy')\n",
        "plt.xlabel('epoch')\n",
        "plt.legend(['train', 'test'], loc='upper left')\n",
        "plt.show()"
      ],
      "execution_count": null,
      "outputs": [
        {
          "output_type": "display_data",
          "data": {
            "image/png": "[encoded data removed]",
            "text/plain": [
              "<Figure size 432x288 with 1 Axes>"
            ]
          },
          "metadata": {
            "tags": [],
            "needs_background": "light"
          }
        }
      ]
    },
    {
      "cell_type": "code",
      "metadata": {
        "id": "xZ4jhDvfksHw",
        "outputId": "48618f8b-3b3d-42c5-a5ac-c87459750665",
        "colab": {
          "base_uri": "https://localhost:8080/",
          "height": 295
        }
      },
      "source": [
        "plt.plot(history.history['loss'])\n",
        "plt.plot(history.history['val_loss'])\n",
        "plt.title('Loss Model')\n",
        "plt.ylabel('loss')\n",
        "plt.xlabel('epoch')\n",
        "plt.legend(['train', 'test'], loc='upper left')\n",
        "plt.show()"
      ],
      "execution_count": null,
      "outputs": [
        {
          "output_type": "display_data",
          "data": {
            "image/png": "[encoded data removed]",
            "text/plain": [
              "<Figure size 432x288 with 1 Axes>"
            ]
          },
          "metadata": {
            "tags": [],
            "needs_background": "light"
          }
        }
      ]
    }
  ]
}